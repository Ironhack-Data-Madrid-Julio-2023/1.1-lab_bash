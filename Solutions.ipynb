{
 "cells": [
  {
   "cell_type": "markdown",
   "id": "9195c04e",
   "metadata": {},
   "source": [
    "print 'hello world'"
   ]
  },
  {
   "cell_type": "markdown",
   "id": "8ac6d148",
   "metadata": {},
   "source": [
    "mkdir new_dir"
   ]
  },
  {
   "cell_type": "markdown",
   "id": "aa117049",
   "metadata": {},
   "source": [
    "rm -r new_dir"
   ]
  },
  {
   "cell_type": "markdown",
   "id": "8fe56b52",
   "metadata": {},
   "source": [
    "mkdir loremcopy\n",
    "cd /Users/ibaigallego/Desktop/IROHACK/curso/week1/1.1-lab_bash/lorem\n",
    "cd sed.txt /Users/ibaigallego/Desktop/IROHACK/curso/week1/1.1-lab_bash/loremcopy"
   ]
  },
  {
   "cell_type": "markdown",
   "id": "83c1d7bf",
   "metadata": {},
   "source": [
    "cd /Users/ibaigallego/Desktop/IROHACK/curso/week1/1.1-lab_bash/lorem\n",
    "cat sed.txt"
   ]
  },
  {
   "cell_type": "markdown",
   "id": "2d72141e",
   "metadata": {},
   "source": [
    "cd /Users/ibaigallego/Desktop/IROHACK/curso/week1/1.1-lab_bash/lorem\n",
    "cat lorem.txt\n",
    "cat at.txt"
   ]
  },
  {
   "cell_type": "markdown",
   "id": "5c4df7bc",
   "metadata": {},
   "source": [
    "head -n 3 lorem.txt"
   ]
  },
  {
   "cell_type": "markdown",
   "id": "8b8bef77",
   "metadata": {},
   "source": [
    "echo \"Homo Homini Lupus.\" >> sed.\n",
    "txt"
   ]
  },
  {
   "cell_type": "markdown",
   "id": "fe6d274a",
   "metadata": {},
   "source": [
    "tail -n 3 sed.txt"
   ]
  },
  {
   "cell_type": "markdown",
   "id": "dc11fd91",
   "metadata": {},
   "source": [
    "whoami"
   ]
  },
  {
   "cell_type": "markdown",
   "id": "7f9f99da",
   "metadata": {},
   "source": [
    "pwd"
   ]
  },
  {
   "cell_type": "markdown",
   "id": "2b5b0d19",
   "metadata": {},
   "source": [
    "ls *.txt"
   ]
  },
  {
   "cell_type": "markdown",
   "id": "8ea1356d",
   "metadata": {},
   "source": [
    "wc -l sed.txt"
   ]
  },
  {
   "cell_type": "markdown",
   "id": "4f369071",
   "metadata": {},
   "source": [
    "find . -name \"*lorem*\"\n",
    "find /Users/ibaigallego/Desktop/IROHACK/curso/week1/1.1-lab_bash -type f -name \"*lorem*\" | grep -c ."
   ]
  },
  {
   "cell_type": "markdown",
   "id": "515f3447",
   "metadata": {},
   "source": [
    "grep -o \"et\" at.txt | wc -l"
   ]
  }
 ],
 "metadata": {
  "kernelspec": {
   "display_name": "Python 3 (ipykernel)",
   "language": "python",
   "name": "python3"
  },
  "language_info": {
   "codemirror_mode": {
    "name": "ipython",
    "version": 3
   },
   "file_extension": ".py",
   "mimetype": "text/x-python",
   "name": "python",
   "nbconvert_exporter": "python",
   "pygments_lexer": "ipython3",
   "version": "3.10.9"
  }
 },
 "nbformat": 4,
 "nbformat_minor": 5
}
