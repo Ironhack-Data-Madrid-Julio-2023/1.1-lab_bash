{
 "cells": [
  {
   "cell_type": "markdown",
   "id": "c7f283e5",
   "metadata": {},
   "source": [
    "1. echo 'Hello World'"
   ]
  },
  {
   "cell_type": "markdown",
   "id": "d30414ed",
   "metadata": {},
   "source": [
    "2. mkdir new_dir"
   ]
  },
  {
   "cell_type": "markdown",
   "id": "fc26f819",
   "metadata": {},
   "source": [
    "3. rm -r new_dir\n"
   ]
  },
  {
   "cell_type": "markdown",
   "id": "cf189ee7",
   "metadata": {},
   "source": [
    "4. mkdir lorem_copy\n",
    "   cd lorem\n",
    "   cp sed.txt /Users/borja/IronHack/1.1_Lab/1.1-lab_bash/lorem_copy\n"
   ]
  },
  {
   "cell_type": "markdown",
   "id": "7ec14215",
   "metadata": {},
   "source": [
    "5. cat sed.txt"
   ]
  },
  {
   "cell_type": "markdown",
   "id": "a3da276e",
   "metadata": {},
   "source": [
    "6. cd lorem\n",
    "   cat at.txt && cat lorem.txt"
   ]
  },
  {
   "cell_type": "markdown",
   "id": "2526cda3",
   "metadata": {},
   "source": [
    "7. head -3 sed.txt"
   ]
  },
  {
   "cell_type": "markdown",
   "id": "9e991088",
   "metadata": {},
   "source": [
    "8. cd ..\n",
    "   cd lorem_copy\n",
    "   echo 'Homo homini lupus.' >> sed.txt"
   ]
  },
  {
   "cell_type": "markdown",
   "id": "d9d0cae9",
   "metadata": {},
   "source": [
    "9. tail -3 sed.txt"
   ]
  },
  {
   "cell_type": "markdown",
   "id": "031017d5",
   "metadata": {},
   "source": [
    "10. whoami"
   ]
  },
  {
   "cell_type": "markdown",
   "id": "88d43d1a",
   "metadata": {},
   "source": [
    "11. pwd"
   ]
  },
  {
   "cell_type": "markdown",
   "id": "e9fa7255",
   "metadata": {},
   "source": [
    "12. cd ..\n",
    "    cd lorem\n",
    "    ls *.txt"
   ]
  },
  {
   "cell_type": "markdown",
   "id": "d8085761",
   "metadata": {},
   "source": [
    "13. wc -l sed.txt"
   ]
  },
  {
   "cell_type": "markdown",
   "id": "cb705b6e",
   "metadata": {},
   "source": [
    "14. wc lorem*"
   ]
  },
  {
   "cell_type": "markdown",
   "id": "504749ae",
   "metadata": {},
   "source": [
    "15. grep -o 'et' at.txt | wc -l "
   ]
  },
  {
   "cell_type": "code",
   "execution_count": null,
   "id": "9351e764",
   "metadata": {},
   "outputs": [],
   "source": []
  }
 ],
 "metadata": {
  "kernelspec": {
   "display_name": "Python 3 (ipykernel)",
   "language": "python",
   "name": "python3"
  },
  "language_info": {
   "codemirror_mode": {
    "name": "ipython",
    "version": 3
   },
   "file_extension": ".py",
   "mimetype": "text/x-python",
   "name": "python",
   "nbconvert_exporter": "python",
   "pygments_lexer": "ipython3",
   "version": "3.10.9"
  }
 },
 "nbformat": 4,
 "nbformat_minor": 5
}
